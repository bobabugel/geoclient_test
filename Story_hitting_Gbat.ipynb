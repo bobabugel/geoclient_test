{
 "cells": [
  {
   "cell_type": "code",
   "execution_count": 1,
   "metadata": {},
   "outputs": [],
   "source": [
    "# use the arcgis defalf "
   ]
  },
  {
   "cell_type": "code",
   "execution_count": 2,
   "metadata": {},
   "outputs": [],
   "source": [
    "import arcpy"
   ]
  },
  {
   "cell_type": "code",
   "execution_count": 46,
   "metadata": {},
   "outputs": [],
   "source": [
    "import urllib3\n",
    "import json\n",
    "from urllib3 import ProxyManager, make_headers\n",
    "import urllib3.request\n",
    "import urllib.request"
   ]
  },
  {
   "cell_type": "code",
   "execution_count": 4,
   "metadata": {},
   "outputs": [],
   "source": [
    "import requests"
   ]
  },
  {
   "cell_type": "code",
   "execution_count": 5,
   "metadata": {},
   "outputs": [],
   "source": [
    "import pandas as pd"
   ]
  },
  {
   "cell_type": "code",
   "execution_count": 6,
   "metadata": {},
   "outputs": [],
   "source": [
    "# Starting are gis Section "
   ]
  },
  {
   "cell_type": "code",
   "execution_count": 7,
   "metadata": {},
   "outputs": [],
   "source": [
    "arcpy.env.overwriteOutput = True"
   ]
  },
  {
   "cell_type": "code",
   "execution_count": 8,
   "metadata": {},
   "outputs": [
    {
     "data": {
      "text/plain": [
       "<module 'management'>"
      ]
     },
     "execution_count": 8,
     "metadata": {},
     "output_type": "execute_result"
    }
   ],
   "source": [
    "arcpy.ImportToolbox(r\"c:\\program files\\arcgis\\pro\\Resources\\ArcToolbox\\toolboxes\\Data Management Tools.tbx\")"
   ]
  },
  {
   "cell_type": "code",
   "execution_count": 9,
   "metadata": {},
   "outputs": [
    {
     "data": {
      "text/plain": [
       "<arcpy.cmanagers.EnvManager.EnvManager at 0x1f0377e07f0>"
      ]
     },
     "execution_count": 9,
     "metadata": {},
     "output_type": "execute_result"
    }
   ],
   "source": [
    "arcpy.EnvManager(scratchWorkspace=r\"D:\\DOF\\StoryMAP\\storymap082620\\storymap\\storymap.gdb\", workspace=r\"D:\\DOF\\StoryMAP\\storymap082620\\storymap\\storymap.gdb\")\n"
   ]
  },
  {
   "cell_type": "code",
   "execution_count": 10,
   "metadata": {},
   "outputs": [],
   "source": [
    "#Starting with Pandas "
   ]
  },
  {
   "cell_type": "code",
   "execution_count": 11,
   "metadata": {},
   "outputs": [],
   "source": [
    "table2 = pd.read_csv (r'D:\\DOF\\StoryMAP\\DATA\\csv\\Table_2.csv')"
   ]
  },
  {
   "cell_type": "code",
   "execution_count": 12,
   "metadata": {},
   "outputs": [
    {
     "data": {
      "text/html": [
       "<div>\n",
       "<style scoped>\n",
       "    .dataframe tbody tr th:only-of-type {\n",
       "        vertical-align: middle;\n",
       "    }\n",
       "\n",
       "    .dataframe tbody tr th {\n",
       "        vertical-align: top;\n",
       "    }\n",
       "\n",
       "    .dataframe thead th {\n",
       "        text-align: right;\n",
       "    }\n",
       "</style>\n",
       "<table border=\"1\" class=\"dataframe\">\n",
       "  <thead>\n",
       "    <tr style=\"text-align: right;\">\n",
       "      <th></th>\n",
       "      <th>OID_</th>\n",
       "      <th>Borough</th>\n",
       "      <th>Tax_Expend</th>\n",
       "      <th>Exempt_AV</th>\n",
       "      <th>Tax_Rate</th>\n",
       "      <th>Tax_Class</th>\n",
       "      <th>Exemption_</th>\n",
       "      <th>Exemption1</th>\n",
       "      <th>PARID</th>\n",
       "      <th>EXCODE</th>\n",
       "      <th>COUNT</th>\n",
       "      <th>PARID_1</th>\n",
       "      <th>PARID_Num</th>\n",
       "    </tr>\n",
       "  </thead>\n",
       "  <tbody>\n",
       "    <tr>\n",
       "      <th>0</th>\n",
       "      <td>1</td>\n",
       "      <td>Manhattan</td>\n",
       "      <td>1.700114e+07</td>\n",
       "      <td>161347050</td>\n",
       "      <td>0.10537</td>\n",
       "      <td>4</td>\n",
       "      <td>GOVT &amp; PUBLIC AUTH</td>\n",
       "      <td>Commercial</td>\n",
       "      <td>1000010010</td>\n",
       "      <td>13356</td>\n",
       "      <td>1</td>\n",
       "      <td>1000010010</td>\n",
       "      <td>1000010010</td>\n",
       "    </tr>\n",
       "    <tr>\n",
       "      <th>1</th>\n",
       "      <td>2</td>\n",
       "      <td>Manhattan</td>\n",
       "      <td>1.356188e+06</td>\n",
       "      <td>12870720</td>\n",
       "      <td>0.10537</td>\n",
       "      <td>4</td>\n",
       "      <td>GOVT &amp; PUBLIC AUTH</td>\n",
       "      <td>Commercial</td>\n",
       "      <td>1000010101</td>\n",
       "      <td>14106</td>\n",
       "      <td>1</td>\n",
       "      <td>1000010101</td>\n",
       "      <td>1000010101</td>\n",
       "    </tr>\n",
       "    <tr>\n",
       "      <th>2</th>\n",
       "      <td>3</td>\n",
       "      <td>Manhattan</td>\n",
       "      <td>1.178053e+07</td>\n",
       "      <td>111801600</td>\n",
       "      <td>0.10537</td>\n",
       "      <td>4</td>\n",
       "      <td>GOVT &amp; PUBLIC AUTH</td>\n",
       "      <td>Commercial</td>\n",
       "      <td>1000010201</td>\n",
       "      <td>14106</td>\n",
       "      <td>1</td>\n",
       "      <td>1000010201</td>\n",
       "      <td>1000010201</td>\n",
       "    </tr>\n",
       "    <tr>\n",
       "      <th>3</th>\n",
       "      <td>4</td>\n",
       "      <td>Manhattan</td>\n",
       "      <td>3.497090e+06</td>\n",
       "      <td>33188670</td>\n",
       "      <td>0.10537</td>\n",
       "      <td>4</td>\n",
       "      <td>GOVT &amp; PUBLIC AUTH</td>\n",
       "      <td>Commercial</td>\n",
       "      <td>1000020001</td>\n",
       "      <td>13356</td>\n",
       "      <td>1</td>\n",
       "      <td>1000020001</td>\n",
       "      <td>1000020001</td>\n",
       "    </tr>\n",
       "    <tr>\n",
       "      <th>4</th>\n",
       "      <td>5</td>\n",
       "      <td>Manhattan</td>\n",
       "      <td>2.687457e+06</td>\n",
       "      <td>25504956</td>\n",
       "      <td>0.10537</td>\n",
       "      <td>4</td>\n",
       "      <td>GOVT &amp; PUBLIC AUTH</td>\n",
       "      <td>Commercial</td>\n",
       "      <td>1000020002</td>\n",
       "      <td>13356</td>\n",
       "      <td>1</td>\n",
       "      <td>1000020002</td>\n",
       "      <td>1000020002</td>\n",
       "    </tr>\n",
       "    <tr>\n",
       "      <th>...</th>\n",
       "      <td>...</td>\n",
       "      <td>...</td>\n",
       "      <td>...</td>\n",
       "      <td>...</td>\n",
       "      <td>...</td>\n",
       "      <td>...</td>\n",
       "      <td>...</td>\n",
       "      <td>...</td>\n",
       "      <td>...</td>\n",
       "      <td>...</td>\n",
       "      <td>...</td>\n",
       "      <td>...</td>\n",
       "      <td>...</td>\n",
       "    </tr>\n",
       "    <tr>\n",
       "      <th>579359</th>\n",
       "      <td>579360</td>\n",
       "      <td>Staten Island</td>\n",
       "      <td>5.689980e+04</td>\n",
       "      <td>540000</td>\n",
       "      <td>0.10537</td>\n",
       "      <td>4</td>\n",
       "      <td>GOVT &amp; PUBLIC AUTH</td>\n",
       "      <td>Commercial</td>\n",
       "      <td>5802191151 XXX</td>\n",
       "      <td>12366</td>\n",
       "      <td>1</td>\n",
       "      <td>2147483647</td>\n",
       "      <td>2147483647</td>\n",
       "    </tr>\n",
       "    <tr>\n",
       "      <th>579360</th>\n",
       "      <td>579361</td>\n",
       "      <td>Staten Island</td>\n",
       "      <td>7.586640e+03</td>\n",
       "      <td>72000</td>\n",
       "      <td>0.10537</td>\n",
       "      <td>4</td>\n",
       "      <td>GOVT &amp; PUBLIC AUTH</td>\n",
       "      <td>Commercial</td>\n",
       "      <td>5802191406 133A</td>\n",
       "      <td>12366</td>\n",
       "      <td>1</td>\n",
       "      <td>2147483647</td>\n",
       "      <td>2147483647</td>\n",
       "    </tr>\n",
       "    <tr>\n",
       "      <th>579361</th>\n",
       "      <td>579362</td>\n",
       "      <td>Staten Island</td>\n",
       "      <td>2.181159e+04</td>\n",
       "      <td>207000</td>\n",
       "      <td>0.10537</td>\n",
       "      <td>4</td>\n",
       "      <td>GOVT &amp; PUBLIC AUTH</td>\n",
       "      <td>Commercial</td>\n",
       "      <td>5802191406 135A</td>\n",
       "      <td>12366</td>\n",
       "      <td>1</td>\n",
       "      <td>2147483647</td>\n",
       "      <td>2147483647</td>\n",
       "    </tr>\n",
       "    <tr>\n",
       "      <th>579362</th>\n",
       "      <td>579363</td>\n",
       "      <td>Staten Island</td>\n",
       "      <td>8.914302e+03</td>\n",
       "      <td>84600</td>\n",
       "      <td>0.10537</td>\n",
       "      <td>4</td>\n",
       "      <td>GOVT &amp; PUBLIC AUTH</td>\n",
       "      <td>Commercial</td>\n",
       "      <td>5802191406 135B</td>\n",
       "      <td>12366</td>\n",
       "      <td>1</td>\n",
       "      <td>2147483647</td>\n",
       "      <td>2147483647</td>\n",
       "    </tr>\n",
       "    <tr>\n",
       "      <th>579363</th>\n",
       "      <td>579364</td>\n",
       "      <td>Staten Island</td>\n",
       "      <td>1.261279e+06</td>\n",
       "      <td>11970000</td>\n",
       "      <td>0.10537</td>\n",
       "      <td>4</td>\n",
       "      <td>GOVT &amp; PUBLIC AUTH</td>\n",
       "      <td>Commercial</td>\n",
       "      <td>5823020011 XXX</td>\n",
       "      <td>17006</td>\n",
       "      <td>1</td>\n",
       "      <td>2147483647</td>\n",
       "      <td>2147483647</td>\n",
       "    </tr>\n",
       "  </tbody>\n",
       "</table>\n",
       "<p>579364 rows × 13 columns</p>\n",
       "</div>"
      ],
      "text/plain": [
       "          OID_        Borough    Tax_Expend  Exempt_AV  Tax_Rate  Tax_Class  \\\n",
       "0            1      Manhattan  1.700114e+07  161347050   0.10537          4   \n",
       "1            2      Manhattan  1.356188e+06   12870720   0.10537          4   \n",
       "2            3      Manhattan  1.178053e+07  111801600   0.10537          4   \n",
       "3            4      Manhattan  3.497090e+06   33188670   0.10537          4   \n",
       "4            5      Manhattan  2.687457e+06   25504956   0.10537          4   \n",
       "...        ...            ...           ...        ...       ...        ...   \n",
       "579359  579360  Staten Island  5.689980e+04     540000   0.10537          4   \n",
       "579360  579361  Staten Island  7.586640e+03      72000   0.10537          4   \n",
       "579361  579362  Staten Island  2.181159e+04     207000   0.10537          4   \n",
       "579362  579363  Staten Island  8.914302e+03      84600   0.10537          4   \n",
       "579363  579364  Staten Island  1.261279e+06   11970000   0.10537          4   \n",
       "\n",
       "                Exemption_  Exemption1            PARID  EXCODE  COUNT  \\\n",
       "0       GOVT & PUBLIC AUTH  Commercial       1000010010   13356      1   \n",
       "1       GOVT & PUBLIC AUTH  Commercial       1000010101   14106      1   \n",
       "2       GOVT & PUBLIC AUTH  Commercial       1000010201   14106      1   \n",
       "3       GOVT & PUBLIC AUTH  Commercial       1000020001   13356      1   \n",
       "4       GOVT & PUBLIC AUTH  Commercial       1000020002   13356      1   \n",
       "...                    ...         ...              ...     ...    ...   \n",
       "579359  GOVT & PUBLIC AUTH  Commercial   5802191151 XXX   12366      1   \n",
       "579360  GOVT & PUBLIC AUTH  Commercial  5802191406 133A   12366      1   \n",
       "579361  GOVT & PUBLIC AUTH  Commercial  5802191406 135A   12366      1   \n",
       "579362  GOVT & PUBLIC AUTH  Commercial  5802191406 135B   12366      1   \n",
       "579363  GOVT & PUBLIC AUTH  Commercial   5823020011 XXX   17006      1   \n",
       "\n",
       "           PARID_1   PARID_Num  \n",
       "0       1000010010  1000010010  \n",
       "1       1000010101  1000010101  \n",
       "2       1000010201  1000010201  \n",
       "3       1000020001  1000020001  \n",
       "4       1000020002  1000020002  \n",
       "...            ...         ...  \n",
       "579359  2147483647  2147483647  \n",
       "579360  2147483647  2147483647  \n",
       "579361  2147483647  2147483647  \n",
       "579362  2147483647  2147483647  \n",
       "579363  2147483647  2147483647  \n",
       "\n",
       "[579364 rows x 13 columns]"
      ]
     },
     "execution_count": 12,
     "metadata": {},
     "output_type": "execute_result"
    }
   ],
   "source": [
    "table2"
   ]
  },
  {
   "cell_type": "code",
   "execution_count": 13,
   "metadata": {},
   "outputs": [],
   "source": [
    "table2_J = table2.to_json"
   ]
  },
  {
   "cell_type": "code",
   "execution_count": 14,
   "metadata": {},
   "outputs": [
    {
     "data": {
      "text/plain": [
       "<bound method NDFrame.to_json of           OID_        Borough    Tax_Expend  Exempt_AV  Tax_Rate  Tax_Class  \\\n",
       "0            1      Manhattan  1.700114e+07  161347050   0.10537          4   \n",
       "1            2      Manhattan  1.356188e+06   12870720   0.10537          4   \n",
       "2            3      Manhattan  1.178053e+07  111801600   0.10537          4   \n",
       "3            4      Manhattan  3.497090e+06   33188670   0.10537          4   \n",
       "4            5      Manhattan  2.687457e+06   25504956   0.10537          4   \n",
       "...        ...            ...           ...        ...       ...        ...   \n",
       "579359  579360  Staten Island  5.689980e+04     540000   0.10537          4   \n",
       "579360  579361  Staten Island  7.586640e+03      72000   0.10537          4   \n",
       "579361  579362  Staten Island  2.181159e+04     207000   0.10537          4   \n",
       "579362  579363  Staten Island  8.914302e+03      84600   0.10537          4   \n",
       "579363  579364  Staten Island  1.261279e+06   11970000   0.10537          4   \n",
       "\n",
       "                Exemption_  Exemption1            PARID  EXCODE  COUNT  \\\n",
       "0       GOVT & PUBLIC AUTH  Commercial       1000010010   13356      1   \n",
       "1       GOVT & PUBLIC AUTH  Commercial       1000010101   14106      1   \n",
       "2       GOVT & PUBLIC AUTH  Commercial       1000010201   14106      1   \n",
       "3       GOVT & PUBLIC AUTH  Commercial       1000020001   13356      1   \n",
       "4       GOVT & PUBLIC AUTH  Commercial       1000020002   13356      1   \n",
       "...                    ...         ...              ...     ...    ...   \n",
       "579359  GOVT & PUBLIC AUTH  Commercial   5802191151 XXX   12366      1   \n",
       "579360  GOVT & PUBLIC AUTH  Commercial  5802191406 133A   12366      1   \n",
       "579361  GOVT & PUBLIC AUTH  Commercial  5802191406 135A   12366      1   \n",
       "579362  GOVT & PUBLIC AUTH  Commercial  5802191406 135B   12366      1   \n",
       "579363  GOVT & PUBLIC AUTH  Commercial   5823020011 XXX   17006      1   \n",
       "\n",
       "           PARID_1   PARID_Num  \n",
       "0       1000010010  1000010010  \n",
       "1       1000010101  1000010101  \n",
       "2       1000010201  1000010201  \n",
       "3       1000020001  1000020001  \n",
       "4       1000020002  1000020002  \n",
       "...            ...         ...  \n",
       "579359  2147483647  2147483647  \n",
       "579360  2147483647  2147483647  \n",
       "579361  2147483647  2147483647  \n",
       "579362  2147483647  2147483647  \n",
       "579363  2147483647  2147483647  \n",
       "\n",
       "[579364 rows x 13 columns]>"
      ]
     },
     "execution_count": 14,
     "metadata": {},
     "output_type": "execute_result"
    }
   ],
   "source": [
    "table2_J"
   ]
  },
  {
   "cell_type": "code",
   "execution_count": 15,
   "metadata": {},
   "outputs": [],
   "source": [
    "data = table2_J"
   ]
  },
  {
   "cell_type": "code",
   "execution_count": 16,
   "metadata": {},
   "outputs": [],
   "source": [
    "# How to make an api call to geoclient"
   ]
  },
  {
   "cell_type": "code",
   "execution_count": 17,
   "metadata": {},
   "outputs": [],
   "source": [
    "#https://github.com/CityOfNewYork/geoclient"
   ]
  },
  {
   "cell_type": "code",
   "execution_count": 18,
   "metadata": {},
   "outputs": [],
   "source": [
    "# My geoclient Pass Word \n",
    "#ussername : rabugel \n",
    "\n",
    "#Password : 'USCfighton20151!'\n",
    "#App ID : 0a0d8e3f\n",
    "# App Key: 928bf7a2fade0abfcc61a4bf98dd9dbd"
   ]
  },
  {
   "cell_type": "code",
   "execution_count": 19,
   "metadata": {},
   "outputs": [],
   "source": [
    "url1 = 'https://api.cityofnewyork.us/geoclient/v1/address.json?houseNumber=151&street=west 34th st&borough=manhattan&app_id=0a0d8e3f&app_key=928bf7a2fade0abfcc61a4bf98dd9dbd'\n"
   ]
  },
  {
   "cell_type": "code",
   "execution_count": 42,
   "metadata": {},
   "outputs": [],
   "source": [
    "url = 'https://api.cityofnewyork.us/geoclient/v1/bbl.json?borough=manhattan&block=1889&lot=1&app_id=0a0d8e3f&app_key=928bf7a2fade0abfcc61a4bf98dd9dbd'\n"
   ]
  },
  {
   "cell_type": "code",
   "execution_count": 43,
   "metadata": {},
   "outputs": [
    {
     "data": {
      "text/plain": [
       "'https://api.cityofnewyork.us/geoclient/v1/bbl.json?borough=manhattan&block=1889&lot=1&app_id=0a0d8e3f&app_key=928bf7a2fade0abfcc61a4bf98dd9dbd'"
      ]
     },
     "execution_count": 43,
     "metadata": {},
     "output_type": "execute_result"
    }
   ],
   "source": [
    "url"
   ]
  },
  {
   "cell_type": "code",
   "execution_count": 44,
   "metadata": {},
   "outputs": [
    {
     "ename": "TypeError",
     "evalue": "'module' object is not callable",
     "output_type": "error",
     "traceback": [
      "\u001b[1;31m---------------------------------------------------------------------------\u001b[0m",
      "\u001b[1;31mTypeError\u001b[0m                                 Traceback (most recent call last)",
      "\u001b[1;32m<ipython-input-44-ecf2d825688e>\u001b[0m in \u001b[0;36m<module>\u001b[1;34m\u001b[0m\n\u001b[1;32m----> 1\u001b[1;33m \u001b[0mr\u001b[0m \u001b[1;33m=\u001b[0m \u001b[0murllib3\u001b[0m\u001b[1;33m.\u001b[0m\u001b[0mrequest\u001b[0m\u001b[1;33m(\u001b[0m\u001b[1;34m'GET'\u001b[0m\u001b[1;33m,\u001b[0m\u001b[0murl\u001b[0m\u001b[1;33m)\u001b[0m\u001b[1;33m\u001b[0m\u001b[1;33m\u001b[0m\u001b[0m\n\u001b[0m",
      "\u001b[1;31mTypeError\u001b[0m: 'module' object is not callable"
     ]
    }
   ],
   "source": [
    "r = urllib3.request('GET',url)"
   ]
  },
  {
   "cell_type": "code",
   "execution_count": 47,
   "metadata": {},
   "outputs": [
    {
     "ename": "AttributeError",
     "evalue": "module 'urllib3' has no attribute 'urlopen'",
     "output_type": "error",
     "traceback": [
      "\u001b[1;31m---------------------------------------------------------------------------\u001b[0m",
      "\u001b[1;31mAttributeError\u001b[0m                            Traceback (most recent call last)",
      "\u001b[1;32m<ipython-input-47-52714529e5b3>\u001b[0m in \u001b[0;36m<module>\u001b[1;34m\u001b[0m\n\u001b[1;32m----> 1\u001b[1;33m \u001b[0mr\u001b[0m \u001b[1;33m=\u001b[0m \u001b[0murllib3\u001b[0m\u001b[1;33m.\u001b[0m\u001b[0murlopen\u001b[0m\u001b[1;33m(\u001b[0m\u001b[0murl\u001b[0m\u001b[1;33m)\u001b[0m\u001b[1;33m\u001b[0m\u001b[1;33m\u001b[0m\u001b[0m\n\u001b[0m",
      "\u001b[1;31mAttributeError\u001b[0m: module 'urllib3' has no attribute 'urlopen'"
     ]
    }
   ],
   "source": [
    "r = urllib3.urlopen(url)"
   ]
  },
  {
   "cell_type": "code",
   "execution_count": null,
   "metadata": {},
   "outputs": [],
   "source": []
  },
  {
   "cell_type": "code",
   "execution_count": null,
   "metadata": {},
   "outputs": [],
   "source": []
  },
  {
   "cell_type": "code",
   "execution_count": 29,
   "metadata": {},
   "outputs": [],
   "source": [
    "data = url1"
   ]
  },
  {
   "cell_type": "code",
   "execution_count": 31,
   "metadata": {},
   "outputs": [
    {
     "ename": "AttributeError",
     "evalue": "'str' object has no attribute 'decode'",
     "output_type": "error",
     "traceback": [
      "\u001b[1;31m---------------------------------------------------------------------------\u001b[0m",
      "\u001b[1;31mAttributeError\u001b[0m                            Traceback (most recent call last)",
      "\u001b[1;32m<ipython-input-31-9b13b6e56804>\u001b[0m in \u001b[0;36m<module>\u001b[1;34m\u001b[0m\n\u001b[1;32m----> 1\u001b[1;33m \u001b[0mjsonStr\u001b[0m \u001b[1;33m=\u001b[0m \u001b[0mdata\u001b[0m\u001b[1;33m.\u001b[0m\u001b[0mdecode\u001b[0m\u001b[1;33m(\u001b[0m\u001b[1;34m'utf8'\u001b[0m\u001b[1;33m)\u001b[0m\u001b[1;33m.\u001b[0m\u001b[0mreplace\u001b[0m\u001b[1;33m(\u001b[0m\u001b[1;34m\"'\"\u001b[0m\u001b[1;33m,\u001b[0m \u001b[1;34m'\"'\u001b[0m\u001b[1;33m)\u001b[0m\u001b[1;33m\u001b[0m\u001b[1;33m\u001b[0m\u001b[0m\n\u001b[0m",
      "\u001b[1;31mAttributeError\u001b[0m: 'str' object has no attribute 'decode'"
     ]
    }
   ],
   "source": [
    "jsonStr = data.decode('utf8').replace(\"'\", '\"')"
   ]
  },
  {
   "cell_type": "code",
   "execution_count": null,
   "metadata": {},
   "outputs": [],
   "source": []
  },
  {
   "cell_type": "code",
   "execution_count": null,
   "metadata": {},
   "outputs": [],
   "source": []
  },
  {
   "cell_type": "code",
   "execution_count": null,
   "metadata": {},
   "outputs": [],
   "source": [
    "#http = urllib3.PoolManager()\n",
    "r = http.request('GET', url)\n",
    "data = r.data\n",
    "jsonStr = data.decode('utf8').replace(\"'\", '\"')\n",
    "jsonObj = json.loads(jsonStr)\n",
    "jsonObj['address']['zipCode']"
   ]
  },
  {
   "cell_type": "code",
   "execution_count": null,
   "metadata": {},
   "outputs": [],
   "source": []
  },
  {
   "cell_type": "code",
   "execution_count": null,
   "metadata": {},
   "outputs": [],
   "source": []
  },
  {
   "cell_type": "markdown",
   "metadata": {},
   "source": [
    "this works "
   ]
  },
  {
   "cell_type": "code",
   "execution_count": 21,
   "metadata": {},
   "outputs": [],
   "source": [
    "url = 'https://api.cityofnewyork.us/geoclient/v1/address.json?houseNumber=151&street=west 34th st&borough=manhattan&app_id=e22ed8b7&app_key=990df68eafcc06e783349fa6a65e2bd5'\n"
   ]
  },
  {
   "cell_type": "code",
   "execution_count": 22,
   "metadata": {},
   "outputs": [
    {
     "name": "stdout",
     "output_type": "stream",
     "text": [
      "https://api.cityofnewyork.us/geoclient/v1/address.json?houseNumber=151&street=west 34th st&borough=manhattan&app_id=e22ed8b7&app_key=990df68eafcc06e783349fa6a65e2bd5\n"
     ]
    }
   ],
   "source": [
    "print(url)"
   ]
  },
  {
   "cell_type": "code",
   "execution_count": 23,
   "metadata": {},
   "outputs": [],
   "source": [
    "#r = http.request('GET', url)"
   ]
  },
  {
   "cell_type": "code",
   "execution_count": null,
   "metadata": {},
   "outputs": [],
   "source": []
  },
  {
   "cell_type": "code",
   "execution_count": 24,
   "metadata": {},
   "outputs": [],
   "source": [
    "r = requests.get('https://api.cityofnewyork.us/geoclient/v1/address.json?houseNumber=151&street=west 34th st&borough=manhattan&app_id=e22ed8b7&app_key=990df68eafcc06e783349fa6a65e2bd5')"
   ]
  },
  {
   "cell_type": "code",
   "execution_count": 25,
   "metadata": {},
   "outputs": [],
   "source": [
    "data = r"
   ]
  },
  {
   "cell_type": "code",
   "execution_count": 26,
   "metadata": {},
   "outputs": [
    {
     "name": "stdout",
     "output_type": "stream",
     "text": [
      "<Response [200]>\n"
     ]
    }
   ],
   "source": [
    "print(r)"
   ]
  },
  {
   "cell_type": "code",
   "execution_count": 27,
   "metadata": {},
   "outputs": [
    {
     "ename": "AttributeError",
     "evalue": "'Response' object has no attribute 'decode'",
     "output_type": "error",
     "traceback": [
      "\u001b[1;31m---------------------------------------------------------------------------\u001b[0m",
      "\u001b[1;31mAttributeError\u001b[0m                            Traceback (most recent call last)",
      "\u001b[1;32m<ipython-input-27-9b13b6e56804>\u001b[0m in \u001b[0;36m<module>\u001b[1;34m\u001b[0m\n\u001b[1;32m----> 1\u001b[1;33m \u001b[0mjsonStr\u001b[0m \u001b[1;33m=\u001b[0m \u001b[0mdata\u001b[0m\u001b[1;33m.\u001b[0m\u001b[0mdecode\u001b[0m\u001b[1;33m(\u001b[0m\u001b[1;34m'utf8'\u001b[0m\u001b[1;33m)\u001b[0m\u001b[1;33m.\u001b[0m\u001b[0mreplace\u001b[0m\u001b[1;33m(\u001b[0m\u001b[1;34m\"'\"\u001b[0m\u001b[1;33m,\u001b[0m \u001b[1;34m'\"'\u001b[0m\u001b[1;33m)\u001b[0m\u001b[1;33m\u001b[0m\u001b[1;33m\u001b[0m\u001b[0m\n\u001b[0m",
      "\u001b[1;31mAttributeError\u001b[0m: 'Response' object has no attribute 'decode'"
     ]
    }
   ],
   "source": [
    "jsonStr = data.decode('utf8').replace(\"'\", '\"')"
   ]
  },
  {
   "cell_type": "code",
   "execution_count": null,
   "metadata": {},
   "outputs": [],
   "source": [
    "#This is my stuff"
   ]
  },
  {
   "cell_type": "code",
   "execution_count": null,
   "metadata": {},
   "outputs": [],
   "source": [
    "data = r.data"
   ]
  },
  {
   "cell_type": "code",
   "execution_count": null,
   "metadata": {},
   "outputs": [],
   "source": []
  },
  {
   "cell_type": "code",
   "execution_count": null,
   "metadata": {},
   "outputs": [],
   "source": [
    "data = r"
   ]
  },
  {
   "cell_type": "code",
   "execution_count": null,
   "metadata": {},
   "outputs": [],
   "source": [
    "jsonStr = data.decode('utf8').replace(\"'\", '\"')\n",
    "\n"
   ]
  },
  {
   "cell_type": "code",
   "execution_count": null,
   "metadata": {},
   "outputs": [],
   "source": [
    "jsonObj = json.loads(jsonStr)\n",
    "jsonObj['address']['zipCode']"
   ]
  },
  {
   "cell_type": "code",
   "execution_count": null,
   "metadata": {},
   "outputs": [],
   "source": []
  },
  {
   "cell_type": "code",
   "execution_count": null,
   "metadata": {},
   "outputs": [],
   "source": [
    "import csv \n",
    "D:\\DOF\\StoryMAP\\DATA\\csv"
   ]
  },
  {
   "cell_type": "code",
   "execution_count": null,
   "metadata": {},
   "outputs": [],
   "source": [
    "Table_2= \"Table_2_09320_A\""
   ]
  },
  {
   "cell_type": "code",
   "execution_count": null,
   "metadata": {},
   "outputs": [],
   "source": [
    "Table_2"
   ]
  },
  {
   "cell_type": "code",
   "execution_count": null,
   "metadata": {},
   "outputs": [],
   "source": [
    "print(Table_2)"
   ]
  },
  {
   "cell_type": "code",
   "execution_count": null,
   "metadata": {},
   "outputs": [],
   "source": [
    "import urllib3\n",
    "import json\n",
    "from urllib3 import ProxyManager, make_headers\n",
    "\n",
    "default_headers = make_headers(proxy_basic_auth='finance\\abugelr:USCFighton2015))')\n",
    "\n",
    "\n",
    "http = ProxyManager(\"https://bcpxy.nycnet:8080/\", headers=default_headers)\n",
    "url = 'https://api.cityofnewyork.us/geoclient/v1/address.json?houseNumber=151&street=west 34th st&borough=manhattan&app_id=e22ed8b7&app_key=990df68eafcc06e783349fa6a65e2bd5'\n",
    "\n",
    "#http = urllib3.PoolManager()\n",
    "r = http.request('GET', url)\n",
    "data = r.data\n",
    "jsonStr = data.decode('utf8').replace(\"'\", '\"')\n",
    "jsonObj = json.loads(jsonStr)\n",
    "jsonObj['address']['zipCode']\n",
    "\n",
    "\n",
    "print(jsonObj)\n",
    "pass\n"
   ]
  },
  {
   "cell_type": "code",
   "execution_count": null,
   "metadata": {},
   "outputs": [],
   "source": []
  },
  {
   "cell_type": "code",
   "execution_count": null,
   "metadata": {},
   "outputs": [],
   "source": []
  },
  {
   "cell_type": "code",
   "execution_count": null,
   "metadata": {},
   "outputs": [],
   "source": []
  }
 ],
 "metadata": {
  "kernelspec": {
   "display_name": "Python 3",
   "language": "python",
   "name": "python3"
  },
  "language_info": {
   "codemirror_mode": {
    "name": "ipython",
    "version": 3
   },
   "file_extension": ".py",
   "mimetype": "text/x-python",
   "name": "python",
   "nbconvert_exporter": "python",
   "pygments_lexer": "ipython3",
   "version": "3.6.10"
  }
 },
 "nbformat": 4,
 "nbformat_minor": 4
}
